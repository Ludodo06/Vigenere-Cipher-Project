{
 "cells": [
  {
   "cell_type": "markdown",
   "metadata": {},
   "source": [
    "# Course on the Vigenère cipher "
   ]
  },
  {
   "cell_type": "markdown",
   "metadata": {},
   "source": [
    "### 1. Intro to Ceasar cipher: The Mystery of the Encrypted Note\n",
    "\n",
    " - Context\n",
    " \n",
    "*You are an aspiring detective who loves solving puzzles and mysteries. One day, while strolling in a park, you find an old, mysterious note under a bench. The note appears to be written in strange characters and seems to be encoded. You decide to take on the challenge and uncover what it hides.*\n",
    "\n",
    " - Reading the note\n",
    "\n",
    "[add image of note]\n",
    "\n",
    " - Some help\n",
    "\n",
    "*You remember a detective friend who is an expert in cryptography, and you decide to show the note to them for help. Your detective friend explains that the note is encrypted using a technique called the Caesar Cipher. They do not explain how the cipher works, but they give you a tool that can help you decrypt the note: a wheel that can be used to rotate the letters of the alphabet.*\n",
    "\n",
    "[add image of wheel]\n",
    "\n",
    " - Discovering the Caesar cipher\n",
    "\n",
    "The player start experimenting by shifting the letters of the note by a certain number of positions until he gets a comprehensible message: \"Meet me at the library at five pm\"."
   ]
  },
  {
   "cell_type": "markdown",
   "metadata": {},
   "source": [
    "### 2. Explainations: The Library Visit\n",
    "\n",
    " - Your Friend's Advice\n",
    "\n",
    "*As you embark on your quest to solve the new mystery, your detective friend suggests that you should learn more about cryptography, as it might be crucial for cracking the codes and unraveling the secrets behind these messages. They recommend a book from the library known for its cryptography collection.*\n",
    "\n",
    " - The Library Visit\n",
    "\n",
    "*You go to the library and find the book your friend recommended. You start reading it and learn about the Caesar cipher. You also learn that the Caesar cipher is a special case of a more general encryption scheme called the Vigenère cipher. You decide to learn more about the Vigenère cipher and how it works.*\n",
    "\n"
   ]
  },
  {
   "cell_type": "markdown",
   "metadata": {},
   "source": [
    "### 3. The Vigenère Cipher: The Mysterious Package\n",
    "\n",
    " - The Note in the Package\n",
    "\n",
    "*It is 5 pm, and the library clock strikes. You dont have time to finish the chapter on the Vigenère cipher that you see a mysterious package on the table in front of you. It was not here 5 seconds earlier. You open it and find a note inside. The note is written in strange characters and seems to be encrypted. You decide to take on the challenge and uncover what it hides.*\n",
    "\n",
    " - Some help\n",
    "\n",
    "*You are stuck, and you decide to look for a clue in the package. You find an erased word at the bottom of the package. A 3 letter word was written here. You will have to find a way to decrypte the note: \"I know who killed the mayor. Park avenue tonight, eight pm. Come alone.\"*\n",
    "\n",
    "[In case the player is really stuck, either we give them the solution, or we can give them the key]\n"
   ]
  },
  {
   "cell_type": "markdown",
   "metadata": {},
   "source": [
    "### 4. The lesson: The Vigenère Cipher\n",
    "\n",
    " - The Vigenère Cipher\n",
    "\n",
    "*Since you have some time to kill before going to Park Avenue, you decide to finish the chapter on the Vigenère cipher. Blablabla*"
   ]
  },
  {
   "cell_type": "markdown",
   "metadata": {},
   "source": [
    "### 5. The Quizz: The Park Avenue Meeting\n",
    "\n",
    " - The Park Avenue Meeting\n",
    "\n",
    "*It\"s arounf 8pm, you are sat on the bench where you found the first note. A man all covered in black comes toward you and sits next to you. He says: \"I need to be sure of who you are. Answer this questions:*\n",
    "\n",
    "[Questionnaires sur les ciphers, etc.]"
   ]
  }
 ],
 "metadata": {
  "language_info": {
   "name": "python"
  },
  "orig_nbformat": 4
 },
 "nbformat": 4,
 "nbformat_minor": 2
}
