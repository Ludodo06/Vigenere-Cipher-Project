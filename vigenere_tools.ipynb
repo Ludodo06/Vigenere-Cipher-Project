{
 "cells": [
  {
   "cell_type": "markdown",
   "metadata": {},
   "source": [
    "# Vigenère Cipher Tools\n",
    "## This is a brouillon notebook just to keep ideas and information in one place, feel free to use/ change anything\n",
    "\n",
    "## Introduction\n",
    "Cryptography is the art of secure communication. In this course, we will explore the Vigenère Cipher, a method of encrypting alphabetic text by using a simple form of polyalphabetic substitution. We will start with the ceasar cipher, and build upon what we have learned for rhe Vigenère.\n",
    "\n",
    "## Table of Contents\n",
    "1. [Introduction](#introduction)\n",
    "2. [The Ceasar cipher](#ceasar)\n",
    "3. [Vigenère Cipher Implementation in Python](#python-implementation)\n",
    "4. [Encryption and Decryption Examples](#examples)\n",
    "5. [Cracking Vigenère Cipher](#cracking)\n"
   ]
  },
  {
   "cell_type": "markdown",
   "metadata": {},
   "source": [
    "## The Ceasar cipher \n",
    "The ceasar cipher is a very simple encryption technique used by Julius Ceasar to communicate in secret with his allies. According to the Roman historian Suetonius, he used to encode his messages using the key 3. \n",
    "\n",
    "The encryption scheme is very simple: Every letter of the alphabet is mapped to it's place in the alphabet (e.g A-> 0, B -> 1, Z -> 25)\n",
    "\n",
    "To encrypt a message m we have: Enc_k(m) = (m + k)mod 26\n",
    "\n",
    "To decrypt Dec_k(c) = (c - k)mod 26\n",
    "\n",
    "For example if we used the same key as Ceasar, we would shift each letter of our message by three : A becomes D, Z becomes C etc..\n",
    "\n",
    "So The encryption of HELLO, would be : KHOOR\n"
   ]
  },
  {
   "cell_type": "code",
   "execution_count": 2,
   "metadata": {},
   "outputs": [
    {
     "name": "stdout",
     "output_type": "stream",
     "text": [
      "Original Text: test\n",
      "Caesar Encrypted Text: whvw\n",
      "Caesar Decrypted Text: test\n"
     ]
    }
   ],
   "source": [
    "def caesar_cipher(text, key):\n",
    "    encrypted_text = \"\"\n",
    "    for c in text:\n",
    "        if c.isalpha():\n",
    "            shifted_char = chr((ord(c) - ord('A' if c.isupper() else 'a') + key) % 26 + ord('A' if c.isupper() else 'a'))\n",
    "            encrypted_text += shifted_char\n",
    "        else:\n",
    "            encrypted_text += c\n",
    "    return encrypted_text\n",
    "\n",
    "# Encrypting a message using Caesar Cipher\n",
    "plaintext_caesar = \"test\"\n",
    "shift = 3\n",
    "caesar_encrypted_text = caesar_cipher(plaintext_caesar, shift)\n",
    "\n",
    "# Decrypting the Caesar Cipher\n",
    "caesar_decrypted_text = caesar_cipher(caesar_encrypted_text, -shift)\n",
    "\n",
    "print(f\"Original Text: {plaintext_caesar}\")\n",
    "print(f\"Caesar Encrypted Text: {caesar_encrypted_text}\")\n",
    "print(f\"Caesar Decrypted Text: {caesar_decrypted_text}\")"
   ]
  },
  {
   "cell_type": "markdown",
   "metadata": {},
   "source": [
    "## Deciphering the ceasar cipher\n",
    "The ceasar cipher is very easy to decipher\n",
    "\n",
    "-bruteforce\n",
    "-frequency analysis "
   ]
  },
  {
   "cell_type": "code",
   "execution_count": 3,
   "metadata": {},
   "outputs": [
    {
     "name": "stdout",
     "output_type": "stream",
     "text": [
      "Vjku ku c vguv oguucig\n",
      "Uijt jt b uftu nfttbhf\n",
      "This is a test message\n",
      "Sghr hr z sdrs ldrrzfd\n",
      "Rfgq gq y rcqr kcqqyec\n",
      "Qefp fp x qbpq jbppxdb\n",
      "Pdeo eo w paop iaoowca\n",
      "Ocdn dn v ozno hznnvbz\n",
      "Nbcm cm u nymn gymmuay\n",
      "Mabl bl t mxlm fxlltzx\n",
      "Lzak ak s lwkl ewkksyw\n",
      "Kyzj zj r kvjk dvjjrxv\n",
      "Jxyi yi q juij cuiiqwu\n",
      "Iwxh xh p ithi bthhpvt\n",
      "Hvwg wg o hsgh asggous\n",
      "Guvf vf n grfg zrffntr\n",
      "Ftue ue m fqef yqeemsq\n",
      "Estd td l epde xpddlrp\n",
      "Drsc sc k docd wocckqo\n",
      "Cqrb rb j cnbc vnbbjpn\n",
      "Bpqa qa i bmab umaaiom\n",
      "Aopz pz h alza tlzzhnl\n",
      "Znoy oy g zkyz skyygmk\n",
      "Ymnx nx f yjxy rjxxflj\n",
      "Xlmw mw e xiwx qiwweki\n",
      "This is a test to see if it works, but since it is for frequency analysis, it needs to be a longer text otherwise we won't get a good enough idea of which letters are used the most\n"
     ]
    }
   ],
   "source": [
    "#Bruteforce\n",
    "\n",
    "import string\n",
    "\n",
    "def caesar_bruteforce(ct):\n",
    "    \"\"\"Decrypts a Caesar cipher by bruteforcing all possible keys\n",
    "\n",
    "    Args:\n",
    "        ct (str): the ciphertext\n",
    "\n",
    "    Returns:\n",
    "        str: the plaintext\n",
    "    \"\"\"\n",
    "    decrypted_messages = []\n",
    "    for shift in range(1, 26):\n",
    "        decrypted_text = ''\n",
    "        for char in ct:\n",
    "            if char.isalpha():\n",
    "                shifted_char = chr((ord(char) - shift - 65) % 26 + 65) if char.isupper() else chr((ord(char) - shift - 97) % 26 + 97)\n",
    "                decrypted_text += shifted_char\n",
    "            else:\n",
    "                decrypted_text += char\n",
    "        decrypted_messages.append(decrypted_text)\n",
    "    return decrypted_messages\n",
    "\n",
    "# Example\n",
    "ciphertext = \"Wklv lv d whvw phvvdjh\"\n",
    "decrypted_messages = caesar_bruteforce(ciphertext)\n",
    "for message in decrypted_messages:\n",
    "    print(message)\n",
    "\n",
    "\n",
    "#Frequency Analysis (Only works on a big text)\n",
    "\n",
    "def caesar_frequency_analysis(ciphertext):\n",
    "    letter_frequencies = {char: 0 for char in string.ascii_uppercase}\n",
    "    for char in ciphertext:\n",
    "        if char.isalpha():\n",
    "            char = char.upper()\n",
    "            letter_frequencies[char] += 1\n",
    "    \n",
    "    most_common_letter = max(letter_frequencies, key=letter_frequencies.get)\n",
    "    shift = ord(most_common_letter) - ord('E')\n",
    "    \n",
    "    decrypted_text = ''\n",
    "    for char in ciphertext:\n",
    "        if char.isalpha():\n",
    "            shifted_char = chr((ord(char) - shift - 65) % 26 + 65) if char.isupper() else chr((ord(char) - shift - 97) % 26 + 97)\n",
    "            decrypted_text += shifted_char\n",
    "        else:\n",
    "            decrypted_text += char\n",
    "    return decrypted_text\n",
    "\n",
    "# Example usage\n",
    "ciphertext = \"Wklv lv d whvw wr vhh li lw zrunv, exw vlqfh lw lv iru iuhtxhqfb dqdobvlv, lw qhhgv wr eh d orqjhu whaw rwkhuzlvh zh zrq'w jhw d jrrg hqrxjk lghd ri zklfk ohwwhuv duh xvhg wkh prvw\"\n",
    "decrypted_text = caesar_frequency_analysis(ciphertext)\n",
    "print(decrypted_text)"
   ]
  },
  {
   "cell_type": "markdown",
   "metadata": {},
   "source": [
    "## The Vigenère\n",
    "The Ceasar cipher is very easily crackable with frequency analysis and even simply by bruteforce.\n",
    "So here is how the Vigenère cipher works: explain in a nice and clearer way than with code \n"
   ]
  },
  {
   "cell_type": "markdown",
   "metadata": {},
   "source": [
    "## Vigenère Cipher Implementation in Python <a id='python-implementation'></a>\n",
    "\n",
    "Now, let's implement the Vigenère Cipher encryption and decryption functions in Python"
   ]
  },
  {
   "cell_type": "code",
   "execution_count": 4,
   "metadata": {},
   "outputs": [],
   "source": [
    "import string\n",
    "\n",
    "def generate_vigenere_table():\n",
    "    \"\"\"Generates a Vigenère table\n",
    "    \"\"\"\n",
    "    alphabet = string.ascii_uppercase\n",
    "    vigenere_table = {}\n",
    "    for char in alphabet:\n",
    "        shift = alphabet.index(char)\n",
    "        shifted_alphabet = alphabet[shift:] + alphabet[:shift]\n",
    "        vigenere_table[char] = shifted_alphabet\n",
    "    return vigenere_table\n",
    "\n",
    "vigenere_table = generate_vigenere_table()\n",
    "\n",
    "\n",
    "def encrypt_vigenere(pt, sk, spaces_and_punctuation = True):\n",
    "    \"\"\"Encrypts a Vigenère cipher by applying the key mod 26\n",
    "\n",
    "    Args:\n",
    "        pt (str): the the plaintext\n",
    "        sk (str): the secret key\n",
    "        spaces_and_punctuation (bool): whether to keep spaces and punctuation\n",
    "\n",
    "\n",
    "    Returns:\n",
    "        str: the ciphertext\n",
    "    \"\"\"\n",
    "    encrypted_text = \"\"\n",
    "    sk_repeated = (sk * (len(pt) // len(sk))) + sk[:len(pt) % len(sk)]\n",
    "    for plain_char, key_char in zip(pt, sk_repeated):\n",
    "        if plain_char.isalpha():\n",
    "            shift = ord(key_char.upper()) - ord('A')\n",
    "            if plain_char.islower():\n",
    "                encrypted_char = vigenere_table[key_char.upper()][ord(plain_char.upper()) - ord('A')].lower()\n",
    "            else:\n",
    "                encrypted_char = vigenere_table[key_char.upper()][ord(plain_char.upper()) - ord('A')]\n",
    "            encrypted_text += encrypted_char\n",
    "        else:\n",
    "            if(spaces_and_punctuation):\n",
    "                encrypted_text += plain_char\n",
    "    return encrypted_text\n",
    "\n",
    "def decrypt_vigenere(ct, sk, spaces_and_punctuation = True):\n",
    "\n",
    "\n",
    "    \"\"\"Decrypts a Vigenère cipher by applying the key mod 26\n",
    "\n",
    "    Args:\n",
    "        ct (str): the ciphertext\n",
    "        sk (str): the secret key\n",
    "        spaces_and_punctuation (bool): whether to keep spaces and punctuation\n",
    "\n",
    "    Returns:\n",
    "        str: the plaintext\n",
    "    \"\"\"\n",
    "    decrypted_text = \"\"\n",
    "    sk_repeated = (sk * (len(ct) // len(sk))) + sk[:len(ct) % len(sk)]\n",
    "    for cipher_char, key_char in zip(ct, sk_repeated):\n",
    "        if cipher_char.isalpha():\n",
    "            shift = ord(key_char.upper()) - ord('A')\n",
    "            if cipher_char.islower():\n",
    "                decrypted_char = chr((ord(cipher_char.upper()) - ord('A') - shift) % 26 + ord('a'))\n",
    "            else:\n",
    "                decrypted_char = chr((ord(cipher_char.upper()) - ord('A') - shift) % 26 + ord('A'))\n",
    "            decrypted_text += decrypted_char\n",
    "        else:\n",
    "            if(spaces_and_punctuation):\n",
    "                decrypted_text += cipher_char\n",
    "    return decrypted_text\n"
   ]
  },
  {
   "cell_type": "markdown",
   "metadata": {},
   "source": [
    "## Encryption and Decryption Examples <a id='examples'></a>\n",
    "Let's encrypt and decrypt some messages using the Vigenère Cipher."
   ]
  },
  {
   "cell_type": "code",
   "execution_count": 5,
   "metadata": {},
   "outputs": [
    {
     "name": "stdout",
     "output_type": "stream",
     "text": [
      "Original Text: \n",
      "Encrypted Text: \n",
      "Decrypted Text: \n"
     ]
    }
   ],
   "source": [
    "plaintext = \"\"\n",
    "keyword = \"key\"\n",
    "encrypted_text = encrypt_vigenere(plaintext, keyword)\n",
    "decrypted_text = decrypt_vigenere(encrypted_text, keyword)\n",
    "\n",
    "print(f\"Original Text: {plaintext}\")\n",
    "print(f\"Encrypted Text: {encrypted_text}\")\n",
    "print(f\"Decrypted Text: {decrypted_text}\")"
   ]
  },
  {
   "cell_type": "markdown",
   "metadata": {},
   "source": [
    "## Cracking Vigenère Cipher <a id='cracking'></a>\n",
    "In the real world, attackers might try to crack the Vigenère Cipher. One common method is Kasiski Examination, which involves finding repeating patterns in the ciphertext.\n",
    "\n",
    "\"Nevertheless, in 1861 Friedrich W. Kasiski, formerly a German army officer and cryptanalyst, published a solution of repeated-key Vigenère ciphers based on the fact that identical pairings of message and key symbols generate the same cipher symbols.\"\n",
    "\n",
    "Let's write a function to perform Kasiski Examination:\n",
    "\n"
   ]
  },
  {
   "cell_type": "code",
   "execution_count": 6,
   "metadata": {},
   "outputs": [
    {
     "ename": "NameError",
     "evalue": "name 'TODO' is not defined",
     "output_type": "error",
     "traceback": [
      "\u001b[0;31m---------------------------------------------------------------------------\u001b[0m",
      "\u001b[0;31mNameError\u001b[0m                                 Traceback (most recent call last)",
      "\u001b[1;32m/home/elisa/EPFL/MA3/DigitalED/Vigenere-Cipher-Project/vigenere_tools.ipynb Cell 12\u001b[0m line \u001b[0;36m1\n\u001b[0;32m----> <a href='vscode-notebook-cell:/home/elisa/EPFL/MA3/DigitalED/Vigenere-Cipher-Project/vigenere_tools.ipynb#X14sZmlsZQ%3D%3D?line=0'>1</a>\u001b[0m TODO\n",
      "\u001b[0;31mNameError\u001b[0m: name 'TODO' is not defined"
     ]
    }
   ],
   "source": [
    "TODO\n",
    "\n",
    "#Figure out a way to make a text separate in collumns using a toggle (that would be more easthetic but otherwise, just inputing guessed keylength)\n",
    "#Add a function that can calculate the frequency of each letter repeating (Index of coincidence)\n",
    "\n",
    "#We assume that E is the most common letter used \n",
    "\n",
    "#def find_reapeated_distances():\n",
    "\n",
    "#def find_possible_key_length():\n",
    "\n",
    "#Check index of coincidence and explain \n",
    "\n",
    "#def kasiski_attack():\n",
    "\n",
    "#ALSO add a thing to get rid of commas and spaces and stuff like that."
   ]
  },
  {
   "cell_type": "markdown",
   "metadata": {},
   "source": [
    "FUNCTION TO COMPUTE THE FREQUENCY OF EACH LETTER IN A PHRASE"
   ]
  },
  {
   "cell_type": "code",
   "execution_count": null,
   "metadata": {},
   "outputs": [],
   "source": [
    "from collections import Counter \n",
    "import matplotlib.pyplot as plt\n",
    "\"\"\"\n",
    "Python Program:\n",
    " Using a dictionary to store the char frequency in string\n",
    "\"\"\"\n",
    "def compute_letters_frequency(input_string):\n",
    "   letters = [\"a\",\"b\",\"c\",\"d\",\"e\",\"f\",\"g\",\"h\",\"i\",\"j\",\"k\",\"l\",\"m\",\"n\",\"o\",\"p\",\"q\",\"r\",\"s\",\"t\",\"u\",\"v\",\"w\",\"x\",\"y\",\"z\"]\n",
    "   chars_in_string = Counter(input_string)\n",
    "   res = {}\n",
    "   for letter in letters:\n",
    "      if(letter in chars_in_string):\n",
    "         res[letter] = chars_in_string[letter]\n",
    "      else: \n",
    "         res[letter] = 0 \n",
    "   return res\n",
    "\n",
    "def plot_letters_frequency_analysis(input_string):\n",
    "    freq_list = compute_letters_frequency(input_string).values()\n",
    "    alphabet = [\"a\",\"b\",\"c\",\"d\",\"e\",\"f\",\"g\",\"h\",\"i\",\"j\",\"k\",\"l\",\"m\",\"n\",\"o\",\"p\",\"q\",\"r\",\"s\",\"t\",\"u\",\"v\",\"w\",\"x\",\"y\",\"z\"]\n",
    "    fig, ax = plt.subplots()\n",
    "    ax.bar(x = alphabet, height = freq_list)\n",
    "    plt.ylabel('Frequency')\n",
    "    plt.xlabel('Alphabet')"
   ]
  },
  {
   "cell_type": "code",
   "execution_count": null,
   "metadata": {},
   "outputs": [
    {
     "data": {
      "image/png": "[encoded data removed]",
      "text/plain": [
       "<Figure size 640x480 with 1 Axes>"
      ]
     },
     "metadata": {},
     "output_type": "display_data"
    }
   ],
   "source": [
    "plot_letters_frequency_analysis(\"mi chiamo marina\")"
   ]
  },
  {
   "cell_type": "markdown",
   "metadata": {},
   "source": [
    "***\n",
    "## FIND PLACE OF LETTERS IN STRING"
   ]
  },
  {
   "cell_type": "code",
   "execution_count": null,
   "metadata": {},
   "outputs": [
    {
     "name": "stdout",
     "output_type": "stream",
     "text": [
      "Found \"iv\" at positions [0, 100, 124, 156, 178, 221]\n",
      "_\u001b[1m\u001b[3mIV\u001b[0m\u001b[0m_jdzopdbifvezdakopzehoizjadkpefjvhioezapzdjifvdckzapojvsjdkpfifvhoeozdshiokdsefiejkdzaifvheiodzkaop_\u001b[1m\u001b[3mIV\u001b[0m\u001b[0m_fhijkdspoofhirejadzopf_\u001b[1m\u001b[3mIV\u001b[0m\u001b[0m_hdcqsdkjfshfkdkzaezvjiodkslsfd_\u001b[1m\u001b[3mIV\u001b[0m\u001b[0m_ohzjdzpfojvikcsqdkoj_\u001b[1m\u001b[3mIV\u001b[0m\u001b[0m_jkdlofpjvihdjkspoqsvjidckqkopdsjihjdazkoj_\u001b[1m\u001b[3mIV\u001b[0m\u001b[0m_ohckdzkopjk\n"
     ]
    }
   ],
   "source": [
    "def find_letters_in_string(msg: str, word: str):\n",
    "    \"\"\"Finds the indices of the letters in a string\n",
    "\n",
    "    Args:\n",
    "        msg (str): the string to search in\n",
    "        word (str): the word to search for\n",
    "\n",
    "    Returns:\n",
    "        print the indices of the letters in the string\n",
    "    \"\"\"\n",
    "    \n",
    "    if word not in msg:\n",
    "        print(f\"Could not find \\\"{word}\\\"\")\n",
    "        return\n",
    "    \n",
    "    places = []\n",
    "    for i in range(len(msg) - len(word) + 1):\n",
    "        if msg[i:i+len(word)] == word:\n",
    "            places.append(i)\n",
    "    \n",
    "    print(f\"Found \\\"{word}\\\" at positions {places}\")\n",
    "    print(text.replace(word, \"_\\033[1m\" + \"\\033[3m\" + word.upper() + \"\\033[0m\" + \"\\033[0m_\"))\n",
    "        \n",
    "text = \"ivjdzopdbifvezdakopzehoizjadkpefjvhioezapzdjifvdckzapojvsjdkpfifvhoeozdshiokdsefiejkdzaifvheiodzkaopivfhijkdspoofhirejadzopfivhdcqsdkjfshfkdkzaezvjiodkslsfdivohzjdzpfojvikcsqdkojivjkdlofpjvihdjkspoqsvjidckqkopdsjihjdazkojivohckdzkopjk\"\n",
    "word = \"iv\"\n",
    "find_letters_in_string(text, word)"
   ]
  },
  {
   "cell_type": "markdown",
   "metadata": {},
   "source": [
    "# Extract substring from string "
   ]
  },
  {
   "cell_type": "code",
   "execution_count": null,
   "metadata": {},
   "outputs": [
    {
     "name": "stdout",
     "output_type": "stream",
     "text": [
      "l r!\n"
     ]
    }
   ],
   "source": [
    "def extract_characters(input_string, x, n):\n",
    "    \"\"\"Extracts characters from a string\n",
    "    \n",
    "    Args:\n",
    "        input_string (str): the string to extract characters from\n",
    "        x (int): the starting index\n",
    "        n (int): the step size\n",
    "\n",
    "    Returns:\n",
    "        str: the extracted characters\n",
    "    \"\"\"\n",
    "    result = \"\"\n",
    "    for i in range(len(input_string)):\n",
    "        if (i + 1) % n == x:\n",
    "            result += input_string[i]\n",
    "    return result\n",
    "\n",
    "# Example\n",
    "\n",
    "print(extract_characters(\"HelloWorld!\", 0, 3))"
   ]
  }
 ],
 "metadata": {
  "kernelspec": {
   "display_name": "base",
   "language": "python",
   "name": "python3"
  },
  "language_info": {
   "codemirror_mode": {
    "name": "ipython",
    "version": 3
   },
   "file_extension": ".py",
   "mimetype": "text/x-python",
   "name": "python",
   "nbconvert_exporter": "python",
   "pygments_lexer": "ipython3",
   "version": "3.10.9"
  },
  "orig_nbformat": 4
 },
 "nbformat": 4,
 "nbformat_minor": 2
}
