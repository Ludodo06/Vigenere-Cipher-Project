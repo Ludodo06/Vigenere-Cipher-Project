{
 "cells": [
  {
   "cell_type": "markdown",
   "metadata": {},
   "source": [
    "# Vigenère Cipher Tools\n",
    "## This is a brouillon notebook just to keep ideas and information in one place, feel free to use/ change anything\n",
    "\n",
    "## Introduction\n",
    "Cryptography is the art of secure communication. In this course, we will explore the Vigenère Cipher, a method of encrypting alphabetic text by using a simple form of polyalphabetic substitution. We will start with the ceasar cipher, and build upon what we have learned for rhe Vigenère.\n",
    "\n",
    "## Table of Contents\n",
    "1. [Introduction](#introduction)\n",
    "2. [The Ceasar cipher](#ceasar)\n",
    "3. [Vigenère Cipher Implementation in Python](#python-implementation)\n",
    "4. [Encryption and Decryption Examples](#examples)\n",
    "5. [Cracking Vigenère Cipher](#cracking)\n"
   ]
  },
  {
   "cell_type": "markdown",
   "metadata": {},
   "source": [
    "## The Ceasar cipher \n",
    "The ceasar cipher is a very simple encryption technique used by Julius Ceasar to communicate in secret with his allies. According to the Roman historian Suetonius, he used to encode his messages using the key 3. \n",
    "\n",
    "The encryption scheme is very simple: Every letter of the alphabet is mapped to it's place in the alphabet (e.g A-> 0, B -> 1, Z -> 25)\n",
    "\n",
    "To encrypt a message m we have: Enc_k(m) = (m + k)mod 26\n",
    "\n",
    "To decrypt Dec_k(c) = (c - k)mod 26\n",
    "\n",
    "For example if we used the same key as Ceasar, we would shift each letter of our message by three : A becomes D, Z becomes C etc..\n",
    "\n",
    "So The encryption of HELLO, would be : KHOOR\n"
   ]
  },
  {
   "cell_type": "code",
   "execution_count": null,
   "metadata": {},
   "outputs": [
    {
     "name": "stdout",
     "output_type": "stream",
     "text": [
      "Original Text: test\n",
      "Caesar Encrypted Text: whvw\n",
      "Caesar Decrypted Text: test\n"
     ]
    }
   ],
   "source": [
    "def caesar_cipher(text, key):\n",
    "    encrypted_text = \"\"\n",
    "    for c in text:\n",
    "        if c.isalpha():\n",
    "            shifted_char = chr((ord(c) - ord('A' if c.isupper() else 'a') + key) % 26 + ord('A' if c.isupper() else 'a'))\n",
    "            encrypted_text += shifted_char\n",
    "        else:\n",
    "            encrypted_text += c\n",
    "    return encrypted_text\n",
    "\n",
    "# Encrypting a message using Caesar Cipher\n",
    "plaintext_caesar = \"test\"\n",
    "shift = 3\n",
    "caesar_encrypted_text = caesar_cipher(plaintext_caesar, shift)\n",
    "\n",
    "# Decrypting the Caesar Cipher\n",
    "caesar_decrypted_text = caesar_cipher(caesar_encrypted_text, -shift)\n",
    "\n",
    "print(f\"Original Text: {plaintext_caesar}\")\n",
    "print(f\"Caesar Encrypted Text: {caesar_encrypted_text}\")\n",
    "print(f\"Caesar Decrypted Text: {caesar_decrypted_text}\")"
   ]
  },
  {
   "cell_type": "markdown",
   "metadata": {},
   "source": [
    "## Deciphering the ceasar cipher\n",
    "The ceasar cipher is very easy to decipher\n",
    "\n",
    "-bruteforce\n",
    "-frequency analysis "
   ]
  },
  {
   "cell_type": "code",
   "execution_count": null,
   "metadata": {},
   "outputs": [
    {
     "name": "stdout",
     "output_type": "stream",
     "text": [
      "Vjku ku c vguv oguucig\n",
      "Uijt jt b uftu nfttbhf\n",
      "This is a test message\n",
      "Sghr hr z sdrs ldrrzfd\n",
      "Rfgq gq y rcqr kcqqyec\n",
      "Qefp fp x qbpq jbppxdb\n",
      "Pdeo eo w paop iaoowca\n",
      "Ocdn dn v ozno hznnvbz\n",
      "Nbcm cm u nymn gymmuay\n",
      "Mabl bl t mxlm fxlltzx\n",
      "Lzak ak s lwkl ewkksyw\n",
      "Kyzj zj r kvjk dvjjrxv\n",
      "Jxyi yi q juij cuiiqwu\n",
      "Iwxh xh p ithi bthhpvt\n",
      "Hvwg wg o hsgh asggous\n",
      "Guvf vf n grfg zrffntr\n",
      "Ftue ue m fqef yqeemsq\n",
      "Estd td l epde xpddlrp\n",
      "Drsc sc k docd wocckqo\n",
      "Cqrb rb j cnbc vnbbjpn\n",
      "Bpqa qa i bmab umaaiom\n",
      "Aopz pz h alza tlzzhnl\n",
      "Znoy oy g zkyz skyygmk\n",
      "Ymnx nx f yjxy rjxxflj\n",
      "Xlmw mw e xiwx qiwweki\n",
      "This is a test to see if it works, but since it is for frequency analysis, it needs to be a longer text otherwise we won't get a good enough idea of which letters are used the most\n"
     ]
    }
   ],
   "source": [
    "#Bruteforce\n",
    "\n",
    "import string\n",
    "\n",
    "def caesar_bruteforce(ct):\n",
    "    \"\"\"Decrypts a Caesar cipher by bruteforcing all possible keys\n",
    "\n",
    "    Args:\n",
    "        ct (str): the ciphertext\n",
    "\n",
    "    Returns:\n",
    "        str: the plaintext\n",
    "    \"\"\"\n",
    "    decrypted_messages = []\n",
    "    for shift in range(1, 26):\n",
    "        decrypted_text = ''\n",
    "        for char in ct:\n",
    "            if char.isalpha():\n",
    "                shifted_char = chr((ord(char) - shift - 65) % 26 + 65) if char.isupper() else chr((ord(char) - shift - 97) % 26 + 97)\n",
    "                decrypted_text += shifted_char\n",
    "            else:\n",
    "                decrypted_text += char\n",
    "        decrypted_messages.append(decrypted_text)\n",
    "    return decrypted_messages\n",
    "\n",
    "# Example\n",
    "ciphertext = \"Wklv lv d whvw phvvdjh\"\n",
    "decrypted_messages = caesar_bruteforce(ciphertext)\n",
    "for message in decrypted_messages:\n",
    "    print(message)\n",
    "\n",
    "\n",
    "#Frequency Analysis (Only works on a big text)\n",
    "\n",
    "def caesar_frequency_analysis(ciphertext):\n",
    "    letter_frequencies = {char: 0 for char in string.ascii_uppercase}\n",
    "    for char in ciphertext:\n",
    "        if char.isalpha():\n",
    "            char = char.upper()\n",
    "            letter_frequencies[char] += 1\n",
    "    \n",
    "    most_common_letter = max(letter_frequencies, key=letter_frequencies.get)\n",
    "    shift = ord(most_common_letter) - ord('E')\n",
    "    \n",
    "    decrypted_text = ''\n",
    "    for char in ciphertext:\n",
    "        if char.isalpha():\n",
    "            shifted_char = chr((ord(char) - shift - 65) % 26 + 65) if char.isupper() else chr((ord(char) - shift - 97) % 26 + 97)\n",
    "            decrypted_text += shifted_char\n",
    "        else:\n",
    "            decrypted_text += char\n",
    "    return decrypted_text\n",
    "\n",
    "# Example usage\n",
    "ciphertext = \"Wklv lv d whvw wr vhh li lw zrunv, exw vlqfh lw lv iru iuhtxhqfb dqdobvlv, lw qhhgv wr eh d orqjhu whaw rwkhuzlvh zh zrq'w jhw d jrrg hqrxjk lghd ri zklfk ohwwhuv duh xvhg wkh prvw\"\n",
    "decrypted_text = caesar_frequency_analysis(ciphertext)\n",
    "print(decrypted_text)"
   ]
  },
  {
   "cell_type": "markdown",
   "metadata": {},
   "source": [
    "## The Vigenère\n",
    "The Ceasar cipher is very easily crackable with frequency analysis and even simply by bruteforce.\n",
    "So here is how the Vigenère cipher works: explain in a nice and clearer way than with code \n"
   ]
  },
  {
   "cell_type": "markdown",
   "metadata": {},
   "source": [
    "## Vigenère Cipher Implementation in Python <a id='python-implementation'></a>\n",
    "\n",
    "Now, let's implement the Vigenère Cipher encryption and decryption functions in Python"
   ]
  },
  {
   "cell_type": "code",
   "execution_count": null,
   "metadata": {},
   "outputs": [],
   "source": [
    "import string\n",
    "\n",
    "def generate_vigenere_table():\n",
    "    \"\"\"Generates a Vigenère table\n",
    "    \"\"\"\n",
    "    alphabet = string.ascii_uppercase\n",
    "    vigenere_table = {}\n",
    "    for char in alphabet:\n",
    "        shift = alphabet.index(char)\n",
    "        shifted_alphabet = alphabet[shift:] + alphabet[:shift]\n",
    "        vigenere_table[char] = shifted_alphabet\n",
    "    return vigenere_table\n",
    "\n",
    "vigenere_table = generate_vigenere_table()\n",
    "\n",
    "\n",
    "def encrypt_vigenere(pt, sk):\n",
    "    \"\"\"Decrypts a Vigenère cipher by applying the key mod 26\n",
    "\n",
    "    Args:\n",
    "        pt (str): the the plaintext\n",
    "        sk (str): the secret key\n",
    "\n",
    "    Returns:\n",
    "        str: the ciphertext\n",
    "    \"\"\"\n",
    "    encrypted_text = \"\"\n",
    "    sk_repeated = (sk * (len(pt) // len(sk))) + sk[:len(pt) % len(sk)]\n",
    "    for plain_char, key_char in zip(pt, sk_repeated):\n",
    "        if plain_char.isalpha():\n",
    "            shift = ord(key_char.upper()) - ord('A')\n",
    "            if plain_char.islower():\n",
    "                encrypted_char = vigenere_table[key_char.upper()][ord(plain_char.upper()) - ord('A')].lower()\n",
    "            else:\n",
    "                encrypted_char = vigenere_table[key_char.upper()][ord(plain_char.upper()) - ord('A')]\n",
    "            encrypted_text += encrypted_char\n",
    "        else:\n",
    "            encrypted_text += plain_char\n",
    "    return encrypted_text\n",
    "\n",
    "def decrypt_vigenere(ct, sk):## Files in this repository\n",
    "\n",
    "\n",
    "    \"\"\"Decrypts a Vigenère cipher by applying the key mod 26\n",
    "\n",
    "    Args:\n",
    "        ct (str): the ciphertext\n",
    "        sk (str): the secret key\n",
    "\n",
    "    Returns:\n",
    "        str: the plaintext\n",
    "    \"\"\"\n",
    "    decrypted_text = \"\"\n",
    "    sk_repeated = (sk * (len(ct) // len(sk))) + sk[:len(ct) % len(sk)]\n",
    "    for cipher_char, key_char in zip(ct, sk_repeated):\n",
    "        if cipher_char.isalpha():\n",
    "            shift = ord(key_char.upper()) - ord('A')\n",
    "            if cipher_char.islower():\n",
    "                decrypted_char = chr((ord(cipher_char.upper()) - ord('A') - shift) % 26 + ord('a'))\n",
    "            else:\n",
    "                decrypted_char = chr((ord(cipher_char.upper()) - ord('A') - shift) % 26 + ord('A'))\n",
    "            decrypted_text += decrypted_char\n",
    "        else:\n",
    "            decrypted_text += cipher_char\n",
    "    return decrypted_text\n"
   ]
  },
  {
   "cell_type": "markdown",
   "metadata": {},
   "source": [
    "## Encryption and Decryption Examples <a id='examples'></a>\n",
    "Let's encrypt and decrypt some messages using the Vigenère Cipher."
   ]
  },
  {
   "cell_type": "code",
   "execution_count": null,
   "metadata": {},
   "outputs": [
    {
     "name": "stdout",
     "output_type": "stream",
     "text": [
      "Original Text: hello\n",
      "Encrypted Text: rijvs\n",
      "Decrypted Text: hello\n"
     ]
    }
   ],
   "source": [
    "plaintext = \"hello\"\n",
    "keyword = \"key\"\n",
    "encrypted_text = encrypt_vigenere(plaintext, keyword)\n",
    "decrypted_text = decrypt_vigenere(encrypted_text, keyword)\n",
    "\n",
    "print(f\"Original Text: {plaintext}\")\n",
    "print(f\"Encrypted Text: {encrypted_text}\")\n",
    "print(f\"Decrypted Text: {decrypted_text}\")"
   ]
  },
  {
   "cell_type": "markdown",
   "metadata": {},
   "source": [
    "## Cracking Vigenère Cipher <a id='cracking'></a>\n",
    "In the real world, attackers might try to crack the Vigenère Cipher. One common method is Kasiski Examination, which involves finding repeating patterns in the ciphertext.\n",
    "\n",
    "\"Nevertheless, in 1861 Friedrich W. Kasiski, formerly a German army officer and cryptanalyst, published a solution of repeated-key Vigenère ciphers based on the fact that identical pairings of message and key symbols generate the same cipher symbols.\"\n",
    "\n",
    "Let's write a function to perform Kasiski Examination:\n",
    "\n"
   ]
  },
  {
   "cell_type": "code",
   "execution_count": null,
   "metadata": {},
   "outputs": [
    {
     "ename": "NameError",
     "evalue": "name 'TODO' is not defined",
     "output_type": "error",
     "traceback": [
      "\u001b[0;31m---------------------------------------------------------------------------\u001b[0m",
      "\u001b[0;31mNameError\u001b[0m                                 Traceback (most recent call last)",
      "\u001b[1;32m/home/elisa/EPFL/MA3/DigitalED/Vigenère_tools.ipynb Cell 13\u001b[0m line \u001b[0;36m1\n\u001b[0;32m----> <a href='vscode-notebook-cell:/home/elisa/EPFL/MA3/DigitalED/Vigen%C3%A8re_tools.ipynb#X15sZmlsZQ%3D%3D?line=0'>1</a>\u001b[0m TODO\n",
      "\u001b[0;31mNameError\u001b[0m: name 'TODO' is not defined"
     ]
    }
   ],
   "source": [
    "TODO\n",
    "\n",
    "#Figure out a way to make a text separate in collumns using a toggle (that would be more easthetic but otherwise, just inputing guessed keylength)\n",
    "#Add a function that can calculate the frequency of each letter repeating (Index of coincidence)\n",
    "\n",
    "#We assume that E is the most common letter used \n",
    "\n",
    "#def find_reapeated_distances():\n",
    "\n",
    "#def find_possible_key_length():\n",
    "\n",
    "#Check index of coincidence and explain \n",
    "\n",
    "#def kasiski_attack():"
   ]
  }
 ],
 "metadata": {
  "kernelspec": {
   "display_name": "base",
   "language": "python",
   "name": "python3"
  },
  "language_info": {
   "codemirror_mode": {
    "name": "ipython",
    "version": 3
   },
   "file_extension": ".py",
   "mimetype": "text/x-python",
   "name": "python",
   "nbconvert_exporter": "python",
   "pygments_lexer": "ipython3",
   "version": "3.10.9"
  },
  "orig_nbformat": 4
 },
 "nbformat": 4,
 "nbformat_minor": 2
}
